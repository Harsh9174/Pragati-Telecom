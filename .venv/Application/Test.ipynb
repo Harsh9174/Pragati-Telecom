{
 "cells": [
  {
   "cell_type": "code",
   "execution_count": 2,
   "metadata": {},
   "outputs": [],
   "source": [
    "import mysql.connector"
   ]
  },
  {
   "cell_type": "code",
   "execution_count": 9,
   "metadata": {},
   "outputs": [
    {
     "name": "stdout",
     "output_type": "stream",
     "text": [
      "Connected to MySQL database successfully!\n"
     ]
    }
   ],
   "source": [
    "try:\n",
    "    mydb = mysql.connector.connect(\n",
    "        host=\"localhost\",\n",
    "        user=\"root\",\n",
    "        password=\"Harsh@9174\",\n",
    "        database=\"pragati_telecom\"\n",
    "    )\n",
    "    print(\"Connected to MySQL database successfully!\")\n",
    "except mysql.connector.Error as err:\n",
    "    print(f\"Error: {err}\")"
   ]
  },
  {
   "cell_type": "code",
   "execution_count": 10,
   "metadata": {},
   "outputs": [
    {
     "name": "stdout",
     "output_type": "stream",
     "text": [
      "(57081, 'James', 'Smith', datetime.datetime(1987, 3, 26, 0, 0), 'New York', 'New York', 'United States', 280862, 9638483934, 'James.Smith@gmail.com', datetime.datetime(2020, 1, 2, 0, 0))\n",
      "(57082, 'Robert', 'Downey Jr', datetime.datetime(1973, 5, 24, 0, 0), 'New York', 'New York', 'United States', 376573, 6588282115, 'Robert.Downey Jr@gmail.com', datetime.datetime(2020, 1, 6, 0, 0))\n",
      "(57083, 'John', 'Williams', datetime.datetime(1990, 4, 14, 0, 0), 'Chicago', 'Illinois', 'United States', 485629, 7641021429, 'John.Williams@gmail.com', datetime.datetime(2020, 1, 11, 0, 0))\n",
      "(57084, 'Michael', 'Johnson', datetime.datetime(1953, 3, 25, 0, 0), 'Brisbane', 'Queensland', 'Australia', 260866, 7354232181, 'Michael.Johnson@gmail.com', datetime.datetime(2020, 1, 16, 0, 0))\n",
      "(57085, 'Steve', 'Williams', datetime.datetime(1971, 4, 24, 0, 0), 'Bremen', 'Bremen', 'Germany', 740338, 6285552036, 'Steve.Williams@gmail.com', datetime.datetime(2020, 1, 17, 0, 0))\n",
      "(57086, 'David', 'Beckham', datetime.datetime(1965, 10, 18, 0, 0), 'Villach', 'Carinthia', 'Austria', 621492, 7756781677, 'David.Beckham@gmail.com', datetime.datetime(2020, 1, 20, 0, 0))\n",
      "(57087, 'Richard', 'Brown', datetime.datetime(1958, 12, 16, 0, 0), 'San Antonio', 'Texas', 'United States', 110945, 8420993031, 'Richard.Brown@gmail.com', datetime.datetime(2020, 1, 20, 0, 0))\n",
      "(57088, 'Joseph', 'James', datetime.datetime(1967, 8, 27, 0, 0), 'Amsterdam', 'North Holland', 'Netherlands', 186896, 6691466381, 'Joseph.James@gmail.com', datetime.datetime(2020, 1, 25, 0, 0))\n",
      "(57089, 'Thomas', 'Jones', datetime.datetime(1950, 4, 30, 0, 0), 'Dallas', 'Texas', 'United States', 174080, 8024463594, 'Thomas.Jones@gmail.com', datetime.datetime(2020, 1, 26, 0, 0))\n",
      "(57090, 'Charles', 'King', datetime.datetime(1993, 6, 24, 0, 0), 'Warsaw', 'Masovian', 'Poland', 589838, 8498546902, 'Charles.King@gmail.com', datetime.datetime(2020, 1, 27, 0, 0))\n"
     ]
    }
   ],
   "source": [
    "if mydb and mydb.is_connected:\n",
    "     with mydb.cursor() as cursor:\n",
    "\n",
    "        result = cursor.execute(\"SELECT * FROM Replacement_info\")\n",
    "\n",
    "        rows = cursor.fetchall()\n",
    "\n",
    "        for rows in rows:\n",
    "\n",
    "            print(rows)\n"
   ]
  }
 ],
 "metadata": {
  "language_info": {
   "name": "python"
  }
 },
 "nbformat": 4,
 "nbformat_minor": 2
}
